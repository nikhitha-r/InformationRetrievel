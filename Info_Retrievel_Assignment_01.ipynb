{
 "cells": [
  {
   "cell_type": "markdown",
   "metadata": {
    "colab_type": "text",
    "id": "iwv-hGrdYSVp"
   },
   "source": [
    "# **Information Retrieval in High Dimension Data**\n",
    "## Assignment - 01\n",
    "### Group - 4\n",
    "\n",
    "Group Members: <br>\n",
    "**Ankith Bheemanakone Venkatagiri :  03694766 <br>\n",
    "Nikhitha Radhakrishna Naik : 03709543 <br>\n",
    "Madwaraj Hatwar Kumbashi Raghavendra : 03697531<br>\n",
    "Anirban Mishra : 03708979<br>\n",
    "Tuhin Ghosh : 03708837**\n",
    "\n",
    "\n"
   ]
  },
  {
   "cell_type": "markdown",
   "metadata": {
    "colab_type": "text",
    "id": "uE3AIXInYSVq"
   },
   "source": [
    "## Curse of Dimensionality\n",
    "### **Task 1**\n",
    "Let $\\mathbf{C}_d = \\{\\mathbf{x}\\in \\mathbb{R}^p\\mid\\|\\mathbf{x}\\|_\\infty\\leq\\frac{d}{2}\\}$ denote the $p$-dimensional hypercube of edge length $d$, centered at the origin.\n",
    "#### **Part A**\n",
    "Assume $\\mathbf{X}$ to be uniformly distributed in $\\mathbf{C}_1$. Determine $d$ in dependence of $p$ and $q\\in[0, 1]$, such that\n",
    "$$Pr(\\mathbf{X}\\in\\mathbf{C}_d)=q$$\n",
    "holds."
   ]
  },
  {
   "cell_type": "markdown",
   "metadata": {
    "colab_type": "text",
    "id": "Xda4RnfwYSVr"
   },
   "source": [
    "#### Solution : \n",
    "X is uniformly distributed in $\\mathbf{C}_1$\n",
    "\n",
    "$$Pr(\\mathbf{X}\\in\\mathbf{C}_1)=1$$\n",
    "\n",
    "\n",
    "\n",
    "$\\int_{-1/2}^{1/2}$$\\int_{-1/2}^{1/2}$....$\\int_{-1/2}^{1/2}$$\\int_{-1/2}^{1/2}\\mathbf{z}\\mathbf{dx}_1\\mathbf{dx}_2......\\mathbf{dx}_p$ = 1\n",
    "\n",
    "Therefore, z = 1, and given that\n",
    "\n",
    "$$Pr(\\mathbf{X}\\in\\mathbf{C}_d)=q$$\n",
    "\n",
    "$\\int_{-d/2}^{d/2}$$\\int_{-d/2}^{d/2}$....$\\int_{-d/2}^{d/2}$$\\int_{-d/2}^{d/2}\\mathbf{z}\\mathbf{dx}_1\\mathbf{dx}_2......\\mathbf{dx}_p$ = q\n",
    "\n",
    "Thus, it can be shown that <br>\n",
    "  $d^{p}={q}$\n",
    "\n",
    "\n",
    "Hence,\n",
    "\n",
    "${d}=\\sqrt[p]{q}$\n",
    "\n",
    "\n",
    "\n"
   ]
  },
  {
   "cell_type": "markdown",
   "metadata": {
    "colab_type": "text",
    "id": "UASlGZOeYSVt"
   },
   "source": [
    "#### **Part  B**\n",
    "Let the components of the $p$-dimensional random variable $\\mathbf{X}^p$ be independent and have the standard normal distribution. It is known that $Pr(|\\mathbf{X}^1|\\leq2.576)=0.99$. For an arbitrary $p$, determine the probability $Pr(\\|\\mathbf{X}^p\\|_\\infty\\gt2.576)$ for any of the components of $\\mathbf{X}^p$ to lie outside of the interval $[-2.576, 2.576]$. Evaluate the value for $p = 2$, $p = 3$ and $p = 500$."
   ]
  },
  {
   "cell_type": "markdown",
   "metadata": {
    "colab_type": "text",
    "id": "51fO4BKkYSVu"
   },
   "source": [
    "#### Solution :  \n",
    "\n",
    "   \\begin{equation}\n",
    "    Given:  𝑃𝑟(|𝐗^1| ≤ 2.576) = 0.99 \\\\\n",
    "    Then, 𝑃𝑟(‖𝐗^𝑝‖_∞ ≤ 2.576) = (0.99)^{p} \\\\\n",
    "    Therefore,  𝑃𝑟(‖𝐗^𝑝‖_∞ > 2.576) = 1 - 𝑃𝑟(‖𝐗^𝑝‖_∞ ≤ 2.576)\\ = 1 - (0.99)^{p} \\\\\n",
    "    For p = 2,       𝑃𝑟(‖𝐗^2‖_∞ > 2.576) = 1 - (0.99)^{2} = 0.0199 \\\\\n",
    "    For  p = 3,       𝑃𝑟(‖𝐗^3‖_∞ > 2.576) = 1 - (0.99)^{3} = 0.0297 \\\\\n",
    "    For  p = 500,     𝑃𝑟(‖𝐗^{500}‖_∞ > 2.576) = 1 - (0.99)^{500} = 0.9934 \\\\\n",
    "   \\end{equation}"
   ]
  },
  {
   "cell_type": "markdown",
   "metadata": {
    "colab_type": "text",
    "id": "-kn7-KggYSVw"
   },
   "source": [
    "### **Task 2**\n",
    "Provide the PYTHON code to the following tasks:\n",
    "#### **Part A**\n",
    "Sample $100$ uniformly distributed random vectors from the box $[-1, 1]^{d}$ for $d = 2$."
   ]
  },
  {
   "cell_type": "code",
   "execution_count": 0,
   "metadata": {
    "colab": {},
    "colab_type": "code",
    "id": "b18gyz9XYSVw"
   },
   "outputs": [],
   "source": [
    "import numpy as np\n",
    "import matplotlib.pyplot as plt\n",
    "from numpy import linalg as LA\n",
    "\n",
    "%matplotlib inline"
   ]
  },
  {
   "cell_type": "code",
   "execution_count": 0,
   "metadata": {
    "colab": {
     "base_uri": "https://localhost:8080/",
     "height": 312
    },
    "colab_type": "code",
    "id": "HKP7J7hGYSVz",
    "outputId": "ad64cf81-9100-4ae2-be64-06c0e2381b56"
   },
   "outputs": [
    {
     "data": {
      "text/plain": [
       "Text(0.5, 1.0, 'Uniformly distributed vectors')"
      ]
     },
     "execution_count": 2,
     "metadata": {
      "tags": []
     },
     "output_type": "execute_result"
    },
    {
     "data": {
      "image/png": "[encoded data removed]",
      "text/plain": [
       "<Figure size 432x288 with 1 Axes>"
      ]
     },
     "metadata": {
      "tags": []
     },
     "output_type": "display_data"
    }
   ],
   "source": [
    "def sample_uniform_vectors(low, high, n, d):\n",
    "    \"\"\"\n",
    "    Sample n uniformly distributed random vectors from the box [-1, 1]^d .\n",
    "    \n",
    "    \"\"\"\n",
    "    \n",
    "    return np.random.uniform(low=low,high=high,size=(n,d))\n",
    "\n",
    "x = sample_uniform_vectors(-1, 1, 100, 2) # 100 uniformly distributed random vector for d = 2\n",
    "plt.scatter(x[:, 0], x[:, 1])\n",
    "plt.xlabel('x-axis')\n",
    "plt.ylabel('y-axis')\n",
    "plt.title('Uniformly distributed vectors')"
   ]
  },
  {
   "cell_type": "markdown",
   "metadata": {
    "colab_type": "text",
    "id": "ddKxaP4NYSV2"
   },
   "source": [
    "#### **Part B**\n",
    "For each of the $100$ vectors determine the minimum angle to all other vectors. Then compute the average of these minimum angles. Note that for two vectors $\\mathbf{x}$, $\\mathbf{y}$ the cosine of the angle between the two vectors is defined as\n",
    "\n",
    "$$\\cos{((\\mathbf{x}, \\mathbf{y}))} = \\frac{\\langle \\mathbf{x}, \\mathbf{y} \\rangle}{\\|\\mathbf{x}\\|\\|\\mathbf{y}\\|}.$$"
   ]
  },
  {
   "cell_type": "code",
   "execution_count": 0,
   "metadata": {
    "colab": {},
    "colab_type": "code",
    "id": "3BrsPuY_YSV3"
   },
   "outputs": [],
   "source": [
    "def compute_angle(x, y):\n",
    "    \"\"\"\n",
    "    Returns angle between vectors x and y in radians.\n",
    "    \n",
    "    \"\"\"\n",
    "    \n",
    "    dot = np.dot(x, y)          # Inner product of x and y\n",
    "    norm_x = LA.norm(x)         # Norm of vector x\n",
    "    norm_y = LA.norm(y)         # Norm of vector y\n",
    "    \n",
    "    # prevent division by zero\n",
    "    if norm_x == 0 or norm_y == 0:\n",
    "        return 0\n",
    "        \n",
    "    # Calculate angle between x and y\n",
    "    angle = np.arccos(dot/(norm_x*norm_y))\n",
    "    \n",
    "    return angle"
   ]
  },
  {
   "cell_type": "code",
   "execution_count": 0,
   "metadata": {
    "colab": {
     "base_uri": "https://localhost:8080/",
     "height": 34
    },
    "colab_type": "code",
    "id": "XsMZnWXrYSV5",
    "outputId": "1e7b6233-6b67-402d-9685-4126739e0c45"
   },
   "outputs": [
    {
     "data": {
      "text/plain": [
       "0.029186847732040853"
      ]
     },
     "execution_count": 4,
     "metadata": {
      "tags": []
     },
     "output_type": "execute_result"
    }
   ],
   "source": [
    "def compute_avgang(x):\n",
    "    \"\"\"\n",
    "    Return average angle between neighbouring vectors of data sample x.\n",
    "    \"\"\"\n",
    "    \n",
    "    # Calculate sample size and dimension\n",
    "    n, d = x.shape\n",
    "    min_angle = np.zeros(n)\n",
    "    \n",
    "    # Compute minimum angle for every vector a in the sample x\n",
    "    for i, a in enumerate(x):\n",
    "                 min_angle[i] = min([compute_angle(a, b) for j, b in enumerate(x) if j!=i])\n",
    "    \n",
    "    # Return average of minimum angles\n",
    "    return np.average(min_angle)\n",
    "\n",
    "# Compute average of minimum angles on data sample x\n",
    "average_min_angle = compute_avgang(x)\n",
    "average_min_angle"
   ]
  },
  {
   "cell_type": "markdown",
   "metadata": {
    "colab_type": "text",
    "id": "nGBAan8qYSV7"
   },
   "source": [
    "#### **Part C**\n",
    "Repeat the above for dimensions $d = 1, ..., 1000$ and use the results to plot the average minimum angle against the dimension."
   ]
  },
  {
   "cell_type": "code",
   "execution_count": 0,
   "metadata": {
    "colab": {
     "base_uri": "https://localhost:8080/",
     "height": 295
    },
    "colab_type": "code",
    "id": "ZFagfvDyYSV8",
    "outputId": "145cd571-a069-4402-a5c4-8361eb1b19b7"
   },
   "outputs": [
    {
     "data": {
      "image/png": "[encoded data removed]",
      "text/plain": [
       "<Figure size 432x288 with 1 Axes>"
      ]
     },
     "metadata": {
      "tags": []
     },
     "output_type": "display_data"
    }
   ],
   "source": [
    "# Create a list to store the average minumum angles\n",
    "avg_min_angle_list = []\n",
    "# Loop through the dimensions 1 to 1000\n",
    "for i in range(1,1001):\n",
    "    # Sample 100 vectors with dimension i\n",
    "    X_temp = sample_uniform_vectors(-1,1,100,i) \n",
    "    # Calculate average minimum angle\n",
    "    avg_min_ang = compute_avgang(X_temp) \n",
    "    # Store the result in a list\n",
    "    avg_min_angle_list.append(avg_min_ang) \n",
    "\n",
    "# plot average minimum angle against the dimensions\n",
    "x_val = np.arange(1,1001)\n",
    "plt.plot(x_val, avg_min_angle_list)\n",
    "plt.xlabel('Dimensions')\n",
    "plt.ylabel('Average Minimum angle')\n",
    "plt.title('Dimensions vs Average angle')\n",
    "plt.grid()"
   ]
  },
  {
   "cell_type": "markdown",
   "metadata": {
    "colab_type": "text",
    "id": "IWU3uEADYSV-"
   },
   "source": [
    "#### **Part D**\n",
    "Give an interpretation of the result. What conclusion can you draw for $2$ randomly sampled vectors in a $d$-dimensional space?"
   ]
  },
  {
   "cell_type": "markdown",
   "metadata": {
    "colab_type": "text",
    "id": "sPeSE5lMYSV_"
   },
   "source": [
    "#### Solution:\n",
    "\n",
    "The above result can be interpreted as follows:\n",
    "\n",
    "(1) As the dimension increases, the angle between two vectors sampled randomly tend to increase.\n",
    "\n",
    "(2) The minimum angle can be seen converging to $\\frac{\\pi}{2}$ as the dimension increases. It means the two randomly sampled vectors are orthogonal to each other in $d$-dimensional space where d>>n.\n",
    "\n",
    "(3) The sampled vectors become equidistant as the dimension increases and as the randomly sampled vector becomes equidistant, classifiers like k nearest neighbour cannot be used to classify them.\n",
    "\n",
    "(4) Convergence to $\\frac{\\pi}{2}$ implies that most samples being concentrated in the 'corners' of the cube. This implies that most of the space is occupied by the corners.\n",
    "\n",
    "\n",
    "\n",
    "\n"
   ]
  },
  {
   "cell_type": "markdown",
   "metadata": {
    "colab_type": "text",
    "id": "dokoITWtYSWA"
   },
   "source": [
    "#### **Part E**\n",
    "Does the result change if the sample size increases?"
   ]
  },
  {
   "cell_type": "code",
   "execution_count": 8,
   "metadata": {
    "colab": {
     "base_uri": "https://localhost:8080/",
     "height": 312
    },
    "colab_type": "code",
    "id": "8LmKOFP35Nfg",
    "outputId": "5b8d1fd7-00ef-4ce6-c00b-dc9c69a87101"
   },
   "outputs": [
    {
     "data": {
      "text/plain": [
       "0.006100256576177406"
      ]
     },
     "execution_count": 8,
     "metadata": {
      "tags": []
     },
     "output_type": "execute_result"
    },
    {
     "data": {
      "image/png": "[encoded data removed]",
      "text/plain": [
       "<Figure size 432x288 with 1 Axes>"
      ]
     },
     "metadata": {
      "tags": []
     },
     "output_type": "display_data"
    }
   ],
   "source": [
    "x2 = sample_uniform_vectors(-1, 1, 500, 2) # 500 uniformly distributed random vector for d = 2\n",
    "plt.scatter(x2[:, 0], x2[:, 1])\n",
    "plt.xlabel('x-axis')\n",
    "plt.ylabel('y-axis')\n",
    "plt.title('Uniformly distributed vectors')\n",
    "# Compute the average minimum angle\n",
    "average_min_angle_x2 = compute_avgang(x2)\n",
    "average_min_angle_x2"
   ]
  },
  {
   "cell_type": "markdown",
   "metadata": {
    "colab_type": "text",
    "id": "ca4MIoxZCMLN"
   },
   "source": [
    "We see that there is a decrease in the average minimum angle value with  increase in the sample size.\n",
    "Now we plot the average minimum angle value against the dimensions."
   ]
  },
  {
   "cell_type": "code",
   "execution_count": 0,
   "metadata": {
    "colab": {
     "base_uri": "https://localhost:8080/"
    },
    "colab_type": "code",
    "id": "fN-fyCqyYSWB",
    "outputId": "b5710fa9-a86f-4d5c-d5e0-a0650f1d35b7"
   },
   "outputs": [
    {
     "data": {
      "image/png": "[encoded data removed]",
      "text/plain": [
       "<Figure size 432x288 with 1 Axes>"
      ]
     },
     "metadata": {
      "tags": []
     },
     "output_type": "display_data"
    }
   ],
   "source": [
    "avg_min_angle_list_X2 = []\n",
    "for i in range(1,1001):\n",
    "    # Sample 500 vectors with dimension i\n",
    "    X2_temp = sample_uniform_vectors(-1,1,500,i) \n",
    "    # Calculate average minimum angle\n",
    "    avg_min_ang_X2 = compute_avgang(X2_temp) \n",
    "    # Store the result in a list\n",
    "    avg_min_angle_list_X2.append(avg_min_ang_X2)\n",
    "\n",
    "x_val = np.arange(1,1001)\n",
    "plt.plot(x_val, avg_min_angle_list_X2)\n",
    "plt.xlabel('Dimensions')\n",
    "plt.ylabel('Average Minimum angle')\n",
    "plt.title('Dimensions vs Average angle')\n",
    "plt.grid()"
   ]
  },
  {
   "cell_type": "markdown",
   "metadata": {
    "colab_type": "text",
    "id": "yJ8Knb2W_t9W"
   },
   "source": [
    "When we change the sample size, the slope changes slightly but as the dimensions increases, it becomes more insignificant. We interprete the reason is that the sample becomes less relevant with the dimensionality increase and this relates to the curse of dimensionality, where the increase in dimensions dissipates the 'relationship' between the samples."
   ]
  },
  {
   "cell_type": "markdown",
   "metadata": {
    "colab_type": "text",
    "id": "UwTBBDvtYSWD"
   },
   "source": [
    "## Statistical Decision Making\n",
    "### **Task 3**"
   ]
  },
  {
   "cell_type": "markdown",
   "metadata": {
    "colab_type": "text",
    "id": "rtuyxL0zYSWE"
   },
   "source": [
    "#### **Part A**\n",
    "The numbers in Figure 1 show the probability of the respective event to happen\n",
    "(e.g. the probability for the event X = 1 and Y = 1 is 0:02). Is this table a\n",
    "probability table? If so, why?"
   ]
  },
  {
   "cell_type": "markdown",
   "metadata": {
    "colab_type": "text",
    "id": "UyhUF0_sYSWF"
   },
   "source": [
    "#### Solution:\n",
    "Yes, the table is a probability table. It represents the joint probability between x and y summing up to 1 and all are individually more than 0 : $0.4+0.14+0.05+0.02+0.26+0.13=1$"
   ]
  },
  {
   "cell_type": "markdown",
   "metadata": {
    "colab_type": "text",
    "id": "EUhTx8CfYSWG"
   },
   "source": [
    "#### **Part B**\n",
    "Based on Figure 1 give the conditional expectation \\begin{equation}E_{Y|X=2}[Y] \\end{equation}and the probability\n",
    "of the event X = 1 under the condition that Y = 3."
   ]
  },
  {
   "cell_type": "markdown",
   "metadata": {
    "colab_type": "text",
    "id": "NQFxQI14YSWH"
   },
   "source": [
    "#### Solution:\n",
    "\n",
    "$E_{Y|X=2}[Y] = \\Sigma_{Y=1}^3 Y P(Y|X=2)$  \n",
    "$E_{Y|X=2}[Y] = 1(P(Y=1|X=2)) + 2(P(Y=2|X=2))+3(P(Y=3|X=2))$\n",
    "\n",
    "$E_{Y|X=2}[Y] = 1\\frac{0.4}{0.4+0.14+0.05}+2\\frac{0.14}{0.4+0.14+0.05}+3\\frac{0.05}{0.4+0.14+0.05}$\n",
    "\n",
    "$E_{Y|X=2}[Y] = \\frac{83}{59}$ \n",
    "\n",
    "$E_{Y|X=2}[Y] =$ **1.40678**\n",
    "                 \n",
    "$P(X=1|Y=3) =  \\frac {P(X=1\\cap Y=3)} {P(Y=3)}  = \\frac{0.13}{0.13+0.05}$ \n",
    "             = **0.722**\n"
   ]
  },
  {
   "cell_type": "markdown",
   "metadata": {
    "colab_type": "text",
    "id": "lgAZ7CI1YSWJ"
   },
   "source": [
    "#### **Part C**\n",
    "Is the function p(x, y) given by \\begin{equation} p(x,y) = \\begin{cases} 1 & 0 \\leq x \\leq 1, 0 \\leq y \\leq 0.5 \\\\ 0 & otherwise  \\end{cases} \\end{equation}<br> a joint density function for two random variables?"
   ]
  },
  {
   "cell_type": "markdown",
   "metadata": {
    "colab_type": "text",
    "id": "K42a-dKEYSWK"
   },
   "source": [
    "#### Solution:\n",
    "Given that:\n",
    "\n",
    "\\begin{equation} p(x,y) = \\begin{cases} 1 & 0 \\leq x \\leq 1, 0 \\leq y \\leq 0.5 \\\\ 0 & otherwise  \\end{cases} \\end{equation} <br>\n",
    "   \\begin{equation}\n",
    "     \\int \\int p(x,y)dxdy = \\int_{0}^{0.5} \\int_{0}^{1} 1 dxdy \\\\\n",
    "     \\int \\int p(x,y)dxdy = \\int_{0}^{0.5} x|_{0}^{1} dy \\\\\n",
    "     \\int \\int p(x,y)dxdy = \\int_{0}^{0.5}1 dy = 0.5 \\neq 1\n",
    "   \\end{equation}\n",
    "This is not a joint probability distribution"
   ]
  },
  {
   "cell_type": "markdown",
   "metadata": {
    "colab_type": "text",
    "id": "JS6C4AMaYSWL"
   },
   "source": [
    "#### **Part D**\n",
    "\n",
    "For two random variables X and Y the joint density function is given by \n",
    "\\begin{equation}\n",
    "p(x,y) = \n",
    "          \\begin{cases}\n",
    "          2e^{-(x+y)} &  0 \\leq x \\leq y, 0 \\leq y \\\\\n",
    "           0 & otherwise.\n",
    "          \\end{cases}\n",
    "\\end{equation}\n",
    " What are the marginal density functions for X and Y respectively?\n"
   ]
  },
  {
   "cell_type": "markdown",
   "metadata": {
    "colab_type": "text",
    "id": "27brMiG1YSWL"
   },
   "source": [
    "#### Solution:\n",
    "Given that: <br>\n",
    "\\begin{equation}\n",
    "p(x,y) = \n",
    "          \\begin{cases}\n",
    "          2e^{-(x+y)} &  0 \\leq x \\leq y, 0 \\leq y \\\\\n",
    "           0 & otherwise.\n",
    "          \\end{cases}\n",
    "\\end{equation}\n",
    "\n",
    "First we calculate the marginal density function for $\\mathbf{Y}$.\n",
    "   \\begin{equation}\n",
    "     p(y) = \\int_{0}^{y} p(x,y)dx  \\\\\n",
    "     p(y) = \\int_{0}^{y} 2e^{-(x+y)} dx \\\\\n",
    "     p(y) = 2e^{-y} \\int_{0}^{y} e^{-x} dx \\\\\n",
    "     p(y) = 2e^{-y} [-e^{-x}]_{0}^{y}\\\\\n",
    "     p(y) = 2e^{-y} (-e^{-y} + 1) = 2e^{-y} (1 - e^{-y})\\\\\n",
    "   \\end{equation}\n",
    "Similarly for $\\mathbf{X}$.\n",
    "   \\begin{equation}\n",
    "     p(x) = \\int_{x}^{\\infty} p(x,y)dy  \\\\\n",
    "     p(x) = \\int_{x}^{\\infty} 2e^{-(x+y)} dy \\\\\n",
    "     p(x) = 2e^{-x} \\int_{x}^{\\infty} e^{-y} dy \\\\\n",
    "     p(x) = 2e^{-x} [-e^{-y}]_{x}^{\\infty}\\\\\n",
    "     p(x) = 2e^{-x} [0 + e^{-x}] \\\\\n",
    "     p(x) = 2e^{-2x}\n",
    "   \\end{equation}"
   ]
  },
  {
   "cell_type": "markdown",
   "metadata": {
    "colab_type": "text",
    "id": "17QN9bKUYSWM"
   },
   "source": [
    "#### **Part E**\n",
    "\n",
    "Let the joint density function of two random variables X and Y be given by \\begin{equation}\n",
    "p(x,y) = \\begin{cases}\n",
    "          \\frac{2x+4y}{15} & 0 < x <3, 0 < y < 1 \\\\\n",
    "          0 &otherwise\n",
    "          \\end{cases}\n",
    "\\end{equation} \n",
    "<br> Determine the probability for X $\\leq 2$ under the condition that Y = $\\frac{1}{2}$?"
   ]
  },
  {
   "cell_type": "markdown",
   "metadata": {
    "colab_type": "text",
    "id": "VamtI8ORYSWN"
   },
   "source": [
    "#### Solution:\n",
    "Given that: \n",
    "\\begin{equation}\n",
    "p(x,y) = \\begin{cases}\n",
    "          \\frac{2x+4y}{15} & 0 < x <3, 0 < y < 1 \\\\\n",
    "          0 &otherwise\n",
    "          \\end{cases}\n",
    "\\end{equation} \n",
    "Now,\n",
    "   \\begin{equation}\n",
    "    p \\left(X \\leq 2|Y = \\frac{1}{2}\\right) = \\int_{0}^{2} \\left[\\frac{p(x,y)}{p(y)}\\right]_{y=\\frac{1}{2}} dx \\\\\n",
    "    \\end{equation}\n",
    "    Calculate p(y)\n",
    "    \\begin{equation}\n",
    "    p(y) = \\int_{0}^{3} p(x,y)dx \\\\\n",
    "    p(y) = \\int_{0}^{3} \\frac{2x+4y}{15}dx \\\\\n",
    "    p(y) = \\left[\\frac{x^2 + 4xy}{15}\\right]_{x=0}^{3} \\\\\n",
    "    p(y) = \\frac{9+12y}{15} \\\\\n",
    "\\end{equation}\n",
    "    Now,\n",
    "    \\begin{equation}\n",
    "    p \\left(X \\leq 2|Y = \\frac{1}{2}\\right) = \\int_{0}^{2} \\left[\\frac{\\frac{2x+4y}{15}}{\\frac{9+12y}{15}}\\right]_{y=\\frac{1}{2}} dx \\\\\n",
    "    p \\left(X \\leq 2|Y = \\frac{1}{2}\\right) = \\int_{0}^{2} \\frac{2x+2}{9+6} dx \\\\\n",
    "    p \\left(X \\leq 2|Y = \\frac{1}{2}\\right) = \\frac{[x^2 + 2x]_{x=0}^{2}}{15} = \\frac{8}{15}\n",
    "   \\end{equation}"
   ]
  },
  {
   "cell_type": "markdown",
   "metadata": {
    "colab_type": "text",
    "id": "2OjrAXMJORhh"
   },
   "source": [
    "### **Task 4**\n",
    "\n",
    "Show that the covariance matrix C of any random variable $X \\in R^p$ is\n",
    "symmetric positive semidefinite, i.e. $C = C^T$ and $x^TCx \\geq\u0015 0$ for any covariance\n",
    "matrix $C \\in R^{px\u0002p}$ and any $x \\in R^p$."
   ]
  },
  {
   "cell_type": "markdown",
   "metadata": {
    "colab_type": "text",
    "id": "56rFmgGbPVyj"
   },
   "source": [
    "#### Solution:\n",
    "\n",
    "$C$ is the Covariance matrix of random variable $X \\in R^p$.\n",
    "\n",
    "To prove: $C$ is symmetric i.e. $C = C^T$ and $x^TCx \\geq 0$ i.e. positive semi definite. \n",
    "\n",
    "$C = E[(X - \\mu)(X - \\mu)^T$]\n",
    "\n",
    "$C = E[(X - \\mu)(X^T - \\mu^T)$]\n",
    "\n",
    "$C = E[XX^T - X\\mu^T - \\mu X^T + \\mu\\mu^T$]\n",
    "\n",
    "$C = E[XX^T] - E[X]\\mu^T - \\mu E[X^T] + \\mu\\mu^T$\n",
    "\n",
    "$C = E[XX^T] - \\mu\\mu^T$ -> equation 1\n",
    "\n",
    "Now, calculate $C^T$ :\n",
    "\n",
    "$C^T = E[(X - \\mu)^T(X - \\mu)$]\n",
    "\n",
    "$C^T = E[(X^T - \\mu^T)(X - \\mu)$]\n",
    "\n",
    "$C^T = E[XX^T - \\mu X^T - X\\mu^T  + \\mu\\mu^T$]\n",
    "\n",
    "$C^T = E[XX^T] - \\mu E[X^T] - E[X]\\mu^T  + \\mu\\mu^T$\n",
    "\n",
    "$C^T = E[XX^T] - \\mu\\mu^T$ -> equation 2\n",
    "\n",
    "From equations 1 and 2, $C = C^T$ i.e $C$ is symmetric. <br>\n",
    "Next, we prove that $x^TCx \\geq 0$:\n",
    "\n",
    "$x^TCx = x^TE[(X - \\mu)(X - \\mu)^T]x$\n",
    "\n",
    "$x^TCx = E[x^T(X - \\mu)(x^T(X - \\mu))^T]$\n",
    "\n",
    "Let $z = x^T(X - \\mu)$\n",
    "\n",
    "$x^TCx = E[zz^T] \\geq 0$\n",
    "\n",
    "Therefore, $x^TCx$ is positive semi definite.\n"
   ]
  },
  {
   "cell_type": "code",
   "execution_count": null,
   "metadata": {},
   "outputs": [],
   "source": []
  }
 ],
 "metadata": {
  "colab": {
   "collapsed_sections": [],
   "name": "Info_Retrievel_Assignment_01.ipynb",
   "provenance": []
  },
  "kernelspec": {
   "display_name": "Python 3",
   "language": "python",
   "name": "python3"
  },
  "language_info": {
   "codemirror_mode": {
    "name": "ipython",
    "version": 3
   },
   "file_extension": ".py",
   "mimetype": "text/x-python",
   "name": "python",
   "nbconvert_exporter": "python",
   "pygments_lexer": "ipython3",
   "version": "3.7.3"
  }
 },
 "nbformat": 4,
 "nbformat_minor": 1
}
